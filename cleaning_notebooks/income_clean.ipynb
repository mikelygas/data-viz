{
 "cells": [
  {
   "cell_type": "code",
   "execution_count": 1,
   "metadata": {},
   "outputs": [],
   "source": [
    "#Import Dependencies\n",
    "import pandas as pd\n",
    "import os"
   ]
  },
  {
   "cell_type": "code",
   "execution_count": 2,
   "metadata": {},
   "outputs": [],
   "source": [
    "# Import CSV and convert to dataframes\n",
    "income_df = pd.read_csv(os.path.join(\"Resources\", \"NJ_Household_Income.csv\"))"
   ]
  },
  {
   "cell_type": "code",
   "execution_count": 3,
   "metadata": {},
   "outputs": [],
   "source": [
    "# Drop and rename unnecessary columns and rows\n",
    "income_df = income_df[[\"County\", \"Household Income\"]]\n",
    "income_df = income_df.drop(income_df.index[0])\n",
    "income_df = income_df.rename(columns={\"County\": \"COUNTY\", \"Household Income\": \"INCOME\"})\n",
    "\n",
    "\n",
    " # Verify no missing data\n",
    "income_df.isnull().sum()\n",
    "\n",
    "# Drop any duplicate rows\n",
    "income_df = income_df.drop_duplicates()\n",
    "\n",
    "# Review income to verify data is valid\n",
    "income_df.INCOME.unique()\n",
    "\n",
    "# Verify data is of correct type\n",
    "income_df.dtypes\n",
    "\n",
    "# Find median income for all of NJ\n",
    "income_df[\"NJ_MED\"] = income_df.INCOME.median()\n",
    "\n",
    "# Find percentile rank for income in each county and round to 2 decimal places\n",
    "income_df['PERC_RANK'] = income_df.INCOME.rank(pct=True)*100\n",
    "income_df['PERC_RANK'] = income_df['PERC_RANK'].round(decimals = 2)"
   ]
  }
 ],
 "metadata": {
  "kernelspec": {
   "display_name": "Python 3",
   "language": "python",
   "name": "python3"
  },
  "language_info": {
   "codemirror_mode": {
    "name": "ipython",
    "version": 3
   },
   "file_extension": ".py",
   "mimetype": "text/x-python",
   "name": "python",
   "nbconvert_exporter": "python",
   "pygments_lexer": "ipython3",
   "version": "3.7.1"
  }
 },
 "nbformat": 4,
 "nbformat_minor": 2
}
