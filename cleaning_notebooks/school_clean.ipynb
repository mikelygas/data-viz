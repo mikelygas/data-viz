{
 "cells": [
  {
   "cell_type": "code",
   "execution_count": 63,
   "metadata": {},
   "outputs": [],
   "source": [
    "# Import Dependencies\n",
    "import pandas as pd\n",
    "import os"
   ]
  },
  {
   "cell_type": "code",
   "execution_count": 71,
   "metadata": {},
   "outputs": [],
   "source": [
    "# Import CSV and convert to dataframes\n",
    "test_df = pd.read_csv(os.path.join(\"Resources\", \"school_test.csv\"))"
   ]
  },
  {
   "cell_type": "markdown",
   "metadata": {},
   "source": [
    "#### Clean test dataframe"
   ]
  },
  {
   "cell_type": "code",
   "execution_count": 72,
   "metadata": {},
   "outputs": [
    {
     "data": {
      "text/plain": [
       "DISTRICT_CODE    object\n",
       "SCHOOL_CODE      object\n",
       "TEST             object\n",
       "Subject          object\n",
       "SCH_AVG           int64\n",
       "STATE_AVG         int64\n",
       "DS_CODE          object\n",
       "dtype: object"
      ]
     },
     "execution_count": 72,
     "metadata": {},
     "output_type": "execute_result"
    }
   ],
   "source": [
    "# Drop and rename columns\n",
    "test_df = test_df[[\"DistrictCode\", \"SchoolCode\", \"Test\", \"Subject\", \"School_Avg\", \"State_avg\"]]\n",
    "test_df = test_df.rename(columns={\"DistrictCode\": \"DISTRICT_CODE\", \"SchoolCode\": \"SCHOOL_CODE\",\\\n",
    "                                  \"SchoolCode\": \"SCHOOL_CODE\", \"Test\": \"TEST\",\"School_Avg\": \"SCH_AVG\", \\\n",
    "                                  \"State_avg\": \"STATE_AVG\"})\n",
    "\n",
    "# Verify no missing data\n",
    "test_df.isnull().sum()\n",
    "\n",
    "# Drop any duplicate rows\n",
    "test_df.drop_duplicates()\n",
    "\n",
    "# Add leading zeros to district and school codes\n",
    "test_df[\"DISTRICT_CODE\"] = test_df[\"DISTRICT_CODE\"].apply(lambda x: \"{0:0>4}\".format(x))\n",
    "test_df[\"SCHOOL_CODE\"] = test_df[\"SCHOOL_CODE\"].apply(lambda x: \"{0:0>3}\".format(x))\n",
    "\n",
    "\n",
    "# Create unique key column from district and school codes\n",
    "test_df[\"DS_CODE\"] = test_df[\"DISTRICT_CODE\"].map(str) + \"-\" + test_df[\"SCHOOL_CODE\"].map(str)\n",
    "\n",
    "# Review ACT scores to verify no missing values and scores within valid range\n",
    "ACT_df = test_df[test_df['TEST'].str.contains('ACT')]\n",
    "ACT_df.SCH_AVG.unique()\n",
    "ACT_df.STATE_AVG.unique()\n",
    "\n",
    "# Review SAT scores to verify no missing values and scores within valid range\n",
    "SAT_df = test_df[test_df['TEST'].str.contains('SAT')]\n",
    "SAT_df.SCH_AVG.unique()\n",
    "SAT_df.STATE_AVG.unique()\n",
    "\n",
    "# Replace missing values with None and cast as integer\n",
    "test_df = test_df.replace([\"N\", \"*\"], None)\n",
    "test_df[\"SCH_AVG\"] = test_df[\"SCH_AVG\"].astype('int64')\n",
    "\n",
    "# Verify values are of the correct type\n",
    "test_df.dtypes\n",
    "\n",
    "# Filter only SAT scores and separate into columns for Math and English\n",
    "test_df = test_df.loc[test_df['TEST'] == \"SAT\"]\n",
    "math_df = test_df.loc[test_df[\"Subject\"] == \"Math\"]\n",
    "english_df = test_df.loc[test_df[\"Subject\"] == \"Reading and Writing\"]\n",
    "english_df = english_df[[\"DS_CODE\", \"Subject\", \"SCH_AVG\", \"STATE_AVG\"]]\n",
    "english_df = english_df.rename(columns={\"SCH_AVG\": \"ENG_SCH_AVG\", \"STATE_AVG\": \"ENG_STATE_AVG\"})\n",
    "math_df = math_df.rename(columns={\"SCH_AVG\": \"MATH_SCH_AVG\", \"STATE_AVG\": \"MATH_STATE_AVG\"})\n",
    "math_df = math_df[[\"Subject\", \"MATH_SCH_AVG\", \"MATH_STATE_AVG\", \"DS_CODE\"]]\n",
    "test_df = math_df.merge(english_df, on=\"DS_CODE\", how=\"outer\")\n",
    "test_df = test_df.drop(labels = {\"Subject_x\", \"Subject_y\"}, axis = 1)\n",
    "\n",
    "# Verify no missing data\n",
    "test_df.isnull().sum()"
   ]
  }
 ],
 "metadata": {
  "kernelspec": {
   "display_name": "Python 3",
   "language": "python",
   "name": "python3"
  },
  "language_info": {
   "codemirror_mode": {
    "name": "ipython",
    "version": 3
   },
   "file_extension": ".py",
   "mimetype": "text/x-python",
   "name": "python",
   "nbconvert_exporter": "python",
   "pygments_lexer": "ipython3",
   "version": "3.7.1"
  }
 },
 "nbformat": 4,
 "nbformat_minor": 2
}
